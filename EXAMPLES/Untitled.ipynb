{
 "cells": [
  {
   "cell_type": "code",
   "execution_count": 1,
   "id": "de0b10bd-e242-46d8-be63-e4eb7b875f61",
   "metadata": {},
   "outputs": [],
   "source": [
    "load_ext pycodestyle_magic"
   ]
  },
  {
   "cell_type": "code",
   "execution_count": 7,
   "id": "ac567f49-d987-4840-b4ca-ffa31cd01c02",
   "metadata": {},
   "outputs": [
    {
     "name": "stderr",
     "output_type": "stream",
     "text": [
      "2:2: E225 missing whitespace around operator\n",
      "4:1: E402 module level import not at top of file\n",
      "5:1: W391 blank line at end of file\n"
     ]
    }
   ],
   "source": [
    "%%pycodestyle\n",
    "a=5\n",
    "foo = list()\n",
    "import numpy"
   ]
  },
  {
   "cell_type": "code",
   "execution_count": 11,
   "id": "95b1bc89-d1f3-4bde-8167-ef1ca23541ee",
   "metadata": {},
   "outputs": [
    {
     "name": "stderr",
     "output_type": "stream",
     "text": [
      "4:1: W391 blank line at end of file\n"
     ]
    }
   ],
   "source": [
    "%%pycodestyle\n",
    "for _ in 1, 2, 3:\n",
    "    print(_)"
   ]
  },
  {
   "cell_type": "code",
   "execution_count": 12,
   "id": "bc20c239-26b6-41a5-9c82-1977de968255",
   "metadata": {},
   "outputs": [],
   "source": [
    "%pycodestyle_on"
   ]
  },
  {
   "cell_type": "code",
   "execution_count": 13,
   "id": "02cd3678-5c32-4182-a2b4-09120f7b1ded",
   "metadata": {},
   "outputs": [
    {
     "name": "stderr",
     "output_type": "stream",
     "text": [
      "1:2: E225 missing whitespace around operator\n",
      "1:4: E231 missing whitespace after ';'\n",
      "1:4: E702 multiple statements on one line (semicolon)\n",
      "1:6: E225 missing whitespace around operator\n"
     ]
    }
   ],
   "source": [
    "x=5;y=10"
   ]
  },
  {
   "cell_type": "code",
   "execution_count": null,
   "id": "8183e8e9-00e1-4b5f-a394-e9cac9fc0d7e",
   "metadata": {},
   "outputs": [],
   "source": []
  }
 ],
 "metadata": {
  "kernelspec": {
   "display_name": "Python 3 (ipykernel)",
   "language": "python",
   "name": "python3"
  },
  "language_info": {
   "codemirror_mode": {
    "name": "ipython",
    "version": 3
   },
   "file_extension": ".py",
   "mimetype": "text/x-python",
   "name": "python",
   "nbconvert_exporter": "python",
   "pygments_lexer": "ipython3",
   "version": "3.12.4"
  }
 },
 "nbformat": 4,
 "nbformat_minor": 5
}
