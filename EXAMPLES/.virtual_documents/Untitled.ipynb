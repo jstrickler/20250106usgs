load_ext pycodestyle_magic


%%pycodestyle
a=5
foo = list()
import numpy


%%pycodestyle
for _ in 1, 2, 3:
    print(_)


%pycodestyle_on


x=5;y=10



