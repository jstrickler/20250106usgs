





import pandas


df = pandas.read_table('../DATA/presidents.txt', delimiter=":")


df.head()



