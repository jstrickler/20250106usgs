{
 "cells": [
  {
   "cell_type": "markdown",
   "id": "747447b3-54f4-41f1-bfda-551a98eb1e36",
   "metadata": {},
   "source": [
    "# A Noble Notebook"
   ]
  },
  {
   "cell_type": "markdown",
   "id": "ad12db55-5b2f-475c-8a51-06ce72206e91",
   "metadata": {},
   "source": [
    "## Using Pandas"
   ]
  },
  {
   "cell_type": "code",
   "execution_count": 1,
   "id": "5179a920-86fb-4a16-b836-61fccea4f6a1",
   "metadata": {},
   "outputs": [],
   "source": [
    "import pandas"
   ]
  },
  {
   "cell_type": "code",
   "execution_count": 2,
   "id": "3565182b-6bd0-4b88-9acf-1dd237f36529",
   "metadata": {},
   "outputs": [],
   "source": [
    "df = pandas.read_table('../DATA/presidents.txt', delimiter=\":\")"
   ]
  },
  {
   "cell_type": "code",
   "execution_count": 3,
   "id": "3699b39c-61a7-49df-aced-449944350767",
   "metadata": {},
   "outputs": [
    {
     "data": {
      "text/html": [
       "<div>\n",
       "<style scoped>\n",
       "    .dataframe tbody tr th:only-of-type {\n",
       "        vertical-align: middle;\n",
       "    }\n",
       "\n",
       "    .dataframe tbody tr th {\n",
       "        vertical-align: top;\n",
       "    }\n",
       "\n",
       "    .dataframe thead th {\n",
       "        text-align: right;\n",
       "    }\n",
       "</style>\n",
       "<table border=\"1\" class=\"dataframe\">\n",
       "  <thead>\n",
       "    <tr style=\"text-align: right;\">\n",
       "      <th></th>\n",
       "      <th>1</th>\n",
       "      <th>Washington</th>\n",
       "      <th>George</th>\n",
       "      <th>1732-02-22</th>\n",
       "      <th>1799-12-14</th>\n",
       "      <th>Westmoreland County</th>\n",
       "      <th>Virginia</th>\n",
       "      <th>1789-04-30</th>\n",
       "      <th>1797-03-04</th>\n",
       "      <th>no party</th>\n",
       "    </tr>\n",
       "  </thead>\n",
       "  <tbody>\n",
       "    <tr>\n",
       "      <th>0</th>\n",
       "      <td>2</td>\n",
       "      <td>Adams</td>\n",
       "      <td>John</td>\n",
       "      <td>1735-10-30</td>\n",
       "      <td>1826-07-04</td>\n",
       "      <td>Braintree, Norfolk</td>\n",
       "      <td>Massachusetts</td>\n",
       "      <td>1797-03-04</td>\n",
       "      <td>1801-03-04</td>\n",
       "      <td>Federalist</td>\n",
       "    </tr>\n",
       "    <tr>\n",
       "      <th>1</th>\n",
       "      <td>3</td>\n",
       "      <td>Jefferson</td>\n",
       "      <td>Thomas</td>\n",
       "      <td>1743-04-13</td>\n",
       "      <td>1826-07-04</td>\n",
       "      <td>Albermarle County</td>\n",
       "      <td>Virginia</td>\n",
       "      <td>1801-03-04</td>\n",
       "      <td>1809-03-04</td>\n",
       "      <td>Democratic - Republican</td>\n",
       "    </tr>\n",
       "    <tr>\n",
       "      <th>2</th>\n",
       "      <td>4</td>\n",
       "      <td>Madison</td>\n",
       "      <td>James</td>\n",
       "      <td>1751-03-16</td>\n",
       "      <td>1836-06-28</td>\n",
       "      <td>Port Conway</td>\n",
       "      <td>Virginia</td>\n",
       "      <td>1809-03-04</td>\n",
       "      <td>1817-03-04</td>\n",
       "      <td>Democratic - Republican</td>\n",
       "    </tr>\n",
       "    <tr>\n",
       "      <th>3</th>\n",
       "      <td>5</td>\n",
       "      <td>Monroe</td>\n",
       "      <td>James</td>\n",
       "      <td>1758-04-28</td>\n",
       "      <td>1831-07-04</td>\n",
       "      <td>Westmoreland County</td>\n",
       "      <td>Virginia</td>\n",
       "      <td>1817-03-04</td>\n",
       "      <td>1825-03-04</td>\n",
       "      <td>Democratic - Republican</td>\n",
       "    </tr>\n",
       "    <tr>\n",
       "      <th>4</th>\n",
       "      <td>6</td>\n",
       "      <td>Adams</td>\n",
       "      <td>John Quincy</td>\n",
       "      <td>1767-07-11</td>\n",
       "      <td>1848-02-23</td>\n",
       "      <td>Braintree, Norfolk</td>\n",
       "      <td>Massachusetts</td>\n",
       "      <td>1825-03-04</td>\n",
       "      <td>1829-03-04</td>\n",
       "      <td>Democratic - Republican</td>\n",
       "    </tr>\n",
       "  </tbody>\n",
       "</table>\n",
       "</div>"
      ],
      "text/plain": [
       "   1 Washington       George  1732-02-22  1799-12-14  Westmoreland County  \\\n",
       "0  2      Adams         John  1735-10-30  1826-07-04   Braintree, Norfolk   \n",
       "1  3  Jefferson       Thomas  1743-04-13  1826-07-04    Albermarle County   \n",
       "2  4    Madison        James  1751-03-16  1836-06-28          Port Conway   \n",
       "3  5     Monroe        James  1758-04-28  1831-07-04  Westmoreland County   \n",
       "4  6      Adams  John Quincy  1767-07-11  1848-02-23   Braintree, Norfolk   \n",
       "\n",
       "        Virginia  1789-04-30  1797-03-04                 no party  \n",
       "0  Massachusetts  1797-03-04  1801-03-04               Federalist  \n",
       "1       Virginia  1801-03-04  1809-03-04  Democratic - Republican  \n",
       "2       Virginia  1809-03-04  1817-03-04  Democratic - Republican  \n",
       "3       Virginia  1817-03-04  1825-03-04  Democratic - Republican  \n",
       "4  Massachusetts  1825-03-04  1829-03-04  Democratic - Republican  "
      ]
     },
     "execution_count": 3,
     "metadata": {},
     "output_type": "execute_result"
    }
   ],
   "source": [
    "df.head()"
   ]
  },
  {
   "cell_type": "code",
   "execution_count": null,
   "id": "8729fca0-5013-497c-b86d-82f71dd469c1",
   "metadata": {},
   "outputs": [],
   "source": []
  }
 ],
 "metadata": {
  "kernelspec": {
   "display_name": "Python 3 (ipykernel)",
   "language": "python",
   "name": "python3"
  },
  "language_info": {
   "codemirror_mode": {
    "name": "ipython",
    "version": 3
   },
   "file_extension": ".py",
   "mimetype": "text/x-python",
   "name": "python",
   "nbconvert_exporter": "python",
   "pygments_lexer": "ipython3",
   "version": "3.12.4"
  }
 },
 "nbformat": 4,
 "nbformat_minor": 5
}
